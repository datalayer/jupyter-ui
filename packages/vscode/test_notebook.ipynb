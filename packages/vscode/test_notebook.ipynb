{
 "cells": [
  {
   "cell_type": "markdown",
   "metadata": {},
   "source": [
    "# Test Notebook for VS Code Integration\n",
    "\n",
    "This notebook tests the VS Code theme integration and syntax highlighting."
   ]
  },
  {
   "cell_type": "code",
   "execution_count": null,
   "metadata": {},
   "outputs": [],
   "source": [
    "# Test Python syntax highlighting\n",
    "def greet(name: str) -> str:\n",
    "    \"\"\"Return a greeting message.\"\"\"\n",
    "    message = f\"Hello, {name}!\"\n",
    "    return message\n",
    "\n",
    "# Test various syntax elements\n",
    "class Person:\n",
    "    def __init__(self, name: str, age: int):\n",
    "        self.name = name\n",
    "        self.age = age\n",
    "    \n",
    "    def introduce(self):\n",
    "        return f\"I'm {self.name}, {self.age} years old\"\n",
    "\n",
    "# Numbers and constants\n",
    "pi = 3.14159\n",
    "count = 42\n",
    "is_valid = True\n",
    "nothing = None\n",
    "\n",
    "# Lists and comprehensions\n",
    "numbers = [1, 2, 3, 4, 5]\n",
    "squares = [x**2 for x in numbers]\n",
    "\n",
    "print(greet(\"VS Code\"))"
   ]
  },
  {
   "cell_type": "code",
   "execution_count": null,
   "metadata": {},
   "outputs": [],
   "source": [
    "# Test with different themes\n",
    "import json\n",
    "import math\n",
    "\n",
    "data = {\n",
    "    \"theme\": \"VS Code Dark\",\n",
    "    \"features\": [\"syntax highlighting\", \"icons\", \"theme integration\"],\n",
    "    \"version\": 1.0,\n",
    "    \"enabled\": True\n",
    "}\n",
    "\n",
    "# Mathematical operations\n",
    "result = math.sqrt(16) + 2 ** 3 - 10 / 2\n",
    "print(f\"Result: {result}\")\n",
    "\n",
    "# JSON formatting\n",
    "json_str = json.dumps(data, indent=2)\n",
    "print(json_str)"
   ]
  }
 ],
 "metadata": {
  "kernelspec": {
   "display_name": "Python 3",
   "language": "python",
   "name": "python3"
  },
  "language_info": {
   "codemirror_mode": {
    "name": "ipython",
    "version": 3
   },
   "file_extension": ".py",
   "mimetype": "text/x-python",
   "name": "python",
   "nbconvert_exporter": "python",
   "pygments_lexer": "ipython3",
   "version": "3.11.0"
  }
 },
 "nbformat": 4,
 "nbformat_minor": 5
}