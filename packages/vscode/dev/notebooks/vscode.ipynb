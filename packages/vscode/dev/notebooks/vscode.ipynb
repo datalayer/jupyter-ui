{
 "cells": [
  {
   "cell_type": "code",
   "execution_count": 1,
   "id": "4cb07156-8003-4cf7-8ab8-f9de6f8c9698",
   "metadata": {},
   "outputs": [
    {
     "data": {
      "text/plain": [
       "runtime-01k5bwta4z8ga9tnyw39wmepjq\n"
      ]
     },
     "metadata": {},
     "output_type": "display_data"
    }
   ],
   "source": [
    "import platform\n",
    "print(platform.node())"
   ]
  },
  {
   "cell_type": "code",
   "execution_count": 1,
   "id": "d7c92dbb",
   "metadata": {},
   "outputs": [
    {
     "data": {
      "text/plain": [
       "1\n"
      ]
     },
     "metadata": {},
     "output_type": "display_data"
    }
   ],
   "source": [
    "print(1)"
   ]
  },
  {
   "cell_type": "code",
   "execution_count": null,
   "id": "25b974f9",
   "metadata": {},
   "outputs": [],
   "source": []
  }
 ],
 "metadata": {
  "kernelspec": {
   "display_name": "Python 3 (ipykernel)",
   "language": "python",
   "name": "python3"
  },
  "language_info": {
   "codemirror_mode": {
    "name": "ipython",
    "version": 3
   },
   "file_extension": ".py",
   "mimetype": "text/x-python",
   "name": "python",
   "nbconvert_exporter": "python",
   "pygments_lexer": "ipython3",
   "version": "3.8.12"
  }
 },
 "nbformat": 4,
 "nbformat_minor": 5
}
