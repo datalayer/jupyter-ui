{
  "metadata": {
    "kernelspec": {
      "display_name": "Python 3 (ipykernel)",
      "language": "python",
      "name": "python3"
    },
    "language_info": {
      "name": "python",
      "version": "3.12.9",
      "mimetype": "text/x-python",
      "codemirror_mode": {
        "name": "ipython",
        "version": 3
      },
      "pygments_lexer": "ipython3",
      "nbconvert_exporter": "python",
      "file_extension": ".py"
    }
  },
  "nbformat_minor": 5,
  "nbformat": 4,
  "cells": [
    {
      "id": "4cb07156-8003-4cf7-8ab8-f9de6f8c9698",
      "cell_type": "code",
      "source": "import platform\nprint(platform.node())",
      "metadata": {
        "editable": true,
        "trusted": true,
        "execution": {
          "iopub.status.busy": "2025-09-22T03:11:16.824824Z",
          "iopub.execute_input": "2025-09-22T03:11:16.825564Z",
          "iopub.status.idle": "2025-09-22T03:11:16.829185Z",
          "shell.execute_reply.started": "2025-09-22T03:11:16.825530Z",
          "shell.execute_reply": "2025-09-22T03:11:16.828554Z"
        }
      },
      "outputs": [
        {
          "name": "stdout",
          "output_type": "stream",
          "text": "jupyter-server-59fc6b4cc5-vtqx8\n"
        }
      ],
      "execution_count": 5
    },
    {
      "id": "d7c92dbb",
      "cell_type": "code",
      "source": "print(1)",
      "metadata": {
        "editable": true,
        "trusted": true,
        "execution": {
          "iopub.status.busy": "2025-09-22T03:10:53.937002Z",
          "iopub.execute_input": "2025-09-22T03:10:53.937521Z",
          "iopub.status.idle": "2025-09-22T03:10:53.941003Z",
          "shell.execute_reply.started": "2025-09-22T03:10:53.937497Z",
          "shell.execute_reply": "2025-09-22T03:10:53.940207Z"
        }
      },
      "outputs": [
        {
          "name": "stdout",
          "output_type": "stream",
          "text": "1\n"
        }
      ],
      "execution_count": 2
    },
    {
      "id": "a9a46ba8-5da8-41fc-9487-05d440e406ea",
      "cell_type": "code",
      "source": "1+1",
      "metadata": {
        "trusted": true,
        "editable": true,
        "execution": {
          "iopub.status.busy": "2025-09-22T03:10:57.884476Z",
          "iopub.execute_input": "2025-09-22T03:10:57.885197Z",
          "iopub.status.idle": "2025-09-22T03:10:57.891226Z",
          "shell.execute_reply.started": "2025-09-22T03:10:57.885165Z",
          "shell.execute_reply": "2025-09-22T03:10:57.890374Z"
        }
      },
      "outputs": [
        {
          "execution_count": 3,
          "output_type": "execute_result",
          "data": {
            "text/plain": "2"
          },
          "metadata": {}
        }
      ],
      "execution_count": 3
    },
    {
      "id": "a83c25fa-81a2-4f4e-a589-a8e6bdcd36cb",
      "cell_type": "code",
      "source": "",
      "metadata": {
        "trusted": true
      },
      "outputs": [],
      "execution_count": null
    }
  ]
}