{
  "metadata": {
    "kernelspec": {
      "display_name": "Python 3 (ipykernel)",
      "language": "python",
      "name": "python3"
    },
    "language_info": {
      "name": "python",
      "version": "3.12.9",
      "mimetype": "text/x-python",
      "codemirror_mode": {
        "name": "ipython",
        "version": 3
      },
      "pygments_lexer": "ipython3",
      "nbconvert_exporter": "python",
      "file_extension": ".py"
    }
  },
  "nbformat_minor": 5,
  "nbformat": 4,
  "cells": [
    {
      "id": "4cb07156-8003-4cf7-8ab8-f9de6f8c9698",
      "cell_type": "code",
      "source": "import platform\nprint(platform.node())\nprint(platform.system())",
      "metadata": {
        "editable": true
      },
      "outputs": [
        {
          "data": {
            "text/plain": [
              "runtime-01k5bwta4z8ga9tnyw39wmepjq\n"
            ]
          },
          "metadata": {},
          "output_type": "display_data"
        }
      ],
      "execution_count": null
    },
    {
      "id": "d7c92dbb",
      "cell_type": "code",
      "source": "print(1)\n\n\n",
      "metadata": {
        "editable": true
      },
      "outputs": [
        {
          "data": {
            "text/plain": [
              "1\n"
            ]
          },
          "metadata": {},
          "output_type": "display_data"
        }
      ],
      "execution_count": null
    },
    {
      "id": "a9a46ba8-5da8-41fc-9487-05d440e406ea",
      "cell_type": "code",
      "source": "",
      "metadata": {
        "trusted": true
      },
      "outputs": [],
      "execution_count": null
    }
  ]
}