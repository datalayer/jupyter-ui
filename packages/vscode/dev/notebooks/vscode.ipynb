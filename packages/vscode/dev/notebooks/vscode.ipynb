{
  "metadata": {
    "kernelspec": {
      "display_name": "Python 3 (ipykernel)",
      "language": "python",
      "name": "python3"
    },
    "language_info": {
      "name": "python",
      "version": "3.12.9",
      "mimetype": "text/x-python",
      "codemirror_mode": {
        "name": "ipython",
        "version": 3
      },
      "pygments_lexer": "ipython3",
      "nbconvert_exporter": "python",
      "file_extension": ".py"
    }
  },
  "nbformat_minor": 5,
  "nbformat": 4,
  "cells": [
    {
      "id": "4cb07156-8003-4cf7-8ab8-f9de6f8c9698",
      "cell_type": "code",
      "source": "import platform\nprint(platform.node())\nprint(platform.system())",
      "metadata": {
        "editable": true,
        "trusted": true,
        "execution": {
          "iopub.status.busy": "2025-09-19T23:47:43.716103Z",
          "iopub.execute_input": "2025-09-19T23:47:43.716842Z",
          "iopub.status.idle": "2025-09-19T23:47:43.720900Z",
          "shell.execute_reply.started": "2025-09-19T23:47:43.716810Z",
          "shell.execute_reply": "2025-09-19T23:47:43.720245Z"
        }
      },
      "outputs": [
        {
          "name": "stdout",
          "output_type": "stream",
          "text": "jupyter-server-59fc6b4cc5-vtqx8\nLinux\n"
        }
      ],
      "execution_count": 1
    },
    {
      "id": "d7c92dbb",
      "cell_type": "code",
      "source": "print(1)",
      "metadata": {
        "editable": true,
        "trusted": true,
        "execution": {
          "iopub.status.busy": "2025-09-19T23:47:46.271055Z",
          "iopub.execute_input": "2025-09-19T23:47:46.271687Z",
          "iopub.status.idle": "2025-09-19T23:47:46.275436Z",
          "shell.execute_reply.started": "2025-09-19T23:47:46.271655Z",
          "shell.execute_reply": "2025-09-19T23:47:46.274636Z"
        }
      },
      "outputs": [
        {
          "name": "stdout",
          "output_type": "stream",
          "text": "1\n"
        }
      ],
      "execution_count": 2
    },
    {
      "id": "a9a46ba8-5da8-41fc-9487-05d440e406ea",
      "cell_type": "code",
      "source": "",
      "metadata": {
        "trusted": true,
        "editable": true
      },
      "outputs": [],
      "execution_count": null
    }
  ]
}