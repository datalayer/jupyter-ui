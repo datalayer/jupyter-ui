{
 "cells": [
  {
   "cell_type": "markdown",
   "metadata": {},
   "source": [
    "# Collaboration Example\n",
    "This notebook is for testing real-time collaboration."
   ]
  },
  {
   "cell_type": "code",
   "execution_count": 1,
   "metadata": {
    "execution": {
     "iopub.execute_input": "2025-08-18T06:03:49.869760Z",
     "iopub.status.busy": "2025-08-18T06:03:49.869446Z",
     "iopub.status.idle": "2025-08-18T06:03:49.875095Z",
     "shell.execute_reply": "2025-08-18T06:03:49.874611Z",
     "shell.execute_reply.started": "2025-08-18T06:03:49.869729Z"
    }
   },
   "outputs": [
    {
     "name": "stdout",
     "output_type": "stream",
     "text": [
      "Hello from collaboration notebook!\n"
     ]
    }
   ],
   "source": [
    "print('Hello from collaboration notebook!')"
   ]
  },
  {
   "cell_type": "code",
   "execution_count": 2,
   "metadata": {
    "execution": {
     "iopub.execute_input": "2025-08-18T06:03:51.258535Z",
     "iopub.status.busy": "2025-08-18T06:03:51.258136Z",
     "iopub.status.idle": "2025-08-18T06:03:51.262464Z",
     "shell.execute_reply": "2025-08-18T06:03:51.261483Z",
     "shell.execute_reply.started": "2025-08-18T06:03:51.258506Z"
    }
   },
   "outputs": [
    {
     "name": "stdout",
     "output_type": "stream",
     "text": [
      "x + y = 30\n"
     ]
    }
   ],
   "source": [
    "# Test collaboration by editing this cell\n",
    "x = 10\n",
    "y = 20\n",
    "print(f'x + y = {x + y}')"
   ]
  },
  {
   "cell_type": "code",
   "execution_count": null,
   "metadata": {},
   "outputs": [],
   "source": []
  }
 ],
 "metadata": {
  "kernelspec": {
   "display_name": "Python 3 (ipykernel)",
   "language": "python",
   "name": "python3"
  },
  "language_info": {
   "codemirror_mode": {
    "name": "ipython",
    "version": 3
   },
   "file_extension": ".py",
   "mimetype": "text/x-python",
   "name": "python",
   "nbconvert_exporter": "python",
   "pygments_lexer": "ipython3",
   "version": "3.12.7"
  }
 },
 "nbformat": 4,
 "nbformat_minor": 4
}
